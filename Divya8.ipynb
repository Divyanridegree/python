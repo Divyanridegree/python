{
  "nbformat": 4,
  "nbformat_minor": 0,
  "metadata": {
    "colab": {
      "provenance": [],
      "authorship_tag": "ABX9TyNqjn+mh5U/+QXsOJEq0Qex",
      "include_colab_link": true
    },
    "kernelspec": {
      "name": "python3",
      "display_name": "Python 3"
    },
    "language_info": {
      "name": "python"
    }
  },
  "cells": [
    {
      "cell_type": "markdown",
      "metadata": {
        "id": "view-in-github",
        "colab_type": "text"
      },
      "source": [
        "<a href=\"https://colab.research.google.com/github/Divyanridegree/python/blob/main/Divya8.ipynb\" target=\"_parent\"><img src=\"https://colab.research.google.com/assets/colab-badge.svg\" alt=\"Open In Colab\"/></a>"
      ]
    },
    {
      "cell_type": "code",
      "source": [
        "\n",
        "numbers=[0,3,5,2,1]\n",
        "asc_order=[]\n",
        "def mini(numbers):\n",
        "    mini_value=numbers[0]\n",
        "    for x in numbers:\n",
        "        if x<=mini_value:\n",
        "            mini_value=x\n",
        "    numbers.remove(mini_value)\n",
        "    asc_order.append(mini_value)\n",
        "for x in range(len(numbers)):\n",
        "    mini(numbers)\n",
        "print(asc_order)"
      ],
      "metadata": {
        "colab": {
          "base_uri": "https://localhost:8080/"
        },
        "id": "YjrlC_Ih9rVg",
        "outputId": "53a1f694-1907-4149-bb6b-0ba5a7cd2fdd"
      },
      "execution_count": 149,
      "outputs": [
        {
          "output_type": "stream",
          "name": "stdout",
          "text": [
            "[0, 1, 2, 3, 5]\n"
          ]
        }
      ]
    }
  ]
}